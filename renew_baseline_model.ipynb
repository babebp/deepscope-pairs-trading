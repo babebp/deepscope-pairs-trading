{
 "cells": [
  {
   "cell_type": "code",
   "execution_count": 3,
   "metadata": {},
   "outputs": [],
   "source": [
    "import yfinance as yf\n",
    "import pandas as pd\n",
    "import matplotlib.pyplot as plt\n",
    "from statsmodels.tsa.stattools import coint\n",
    "from statsmodels.api import OLS\n",
    "import numpy as np\n",
    "import statsmodels.api as sm"
   ]
  },
  {
   "cell_type": "code",
   "execution_count": 4,
   "metadata": {},
   "outputs": [],
   "source": [
    "# def calculate_half_life(spread):\n",
    "#     df_spread = pd.DataFrame(spread, columns=['Spread'])\n",
    "#     spread_lag = df_spread['Spread'].shift(1)\n",
    "#     spread_lag.iloc[0] = spread_lag.iloc[1]\n",
    "#     spread_return = df_spread['Spread'] - spread_lag\n",
    "#     spread_return.iloc[0] = spread_return.iloc[1]\n",
    "#     spread_lag2 = sm.add_constant(spread_lag)\n",
    "#     model = sm.OLS(spread_return, spread_lag2)\n",
    "#     res = model.fit()\n",
    "#     half_life = round(-np.log(2) / res.params[1], 0)\n",
    "#     return half_life\n",
    "\n",
    "# calculate_half_life(data['Spread'])"
   ]
  },
  {
   "cell_type": "code",
   "execution_count": 5,
   "metadata": {},
   "outputs": [
    {
     "name": "stderr",
     "output_type": "stream",
     "text": [
      "[*********************100%***********************]  1 of 1 completed\n",
      "[*********************100%***********************]  1 of 1 completed\n"
     ]
    }
   ],
   "source": [
    "# Step 1: Download Historical Data\n",
    "xauusd = yf.download(\"GC=F\", start=\"2019-01-01\", end=\"2024-01-01\")\n",
    "xagusd = yf.download(\"SI=F\", start=\"2019-01-01\", end=\"2024-01-01\")\n",
    "\n",
    "# Prepare the data\n",
    "data = pd.DataFrame({\n",
    "    'Gold': xauusd['Adj Close']['GC=F'],\n",
    "    'Silver': xagusd['Adj Close']['SI=F']\n",
    "}).dropna()\n",
    "\n",
    "del xauusd\n",
    "del xagusd"
   ]
  },
  {
   "cell_type": "code",
   "execution_count": 6,
   "metadata": {},
   "outputs": [
    {
     "name": "stdout",
     "output_type": "stream",
     "text": [
      "Correlation between Gold and Silver: 0.8319010117243449\n",
      "Cointegration p-value: 0.668497624232878\n"
     ]
    }
   ],
   "source": [
    "# Step 2: Analyze Relationships\n",
    "correlation = data.corr()\n",
    "print(f\"Correlation between Gold and Silver: {correlation.loc['Gold', 'Silver']}\")\n",
    "\n",
    "# Cointegration Test\n",
    "score, p_value, _ = coint(data['Gold'], data['Silver'])\n",
    "print(f\"Cointegration p-value: {p_value}\")"
   ]
  },
  {
   "cell_type": "markdown",
   "metadata": {},
   "source": [
    "### Calculate Hedge Ratio"
   ]
  },
  {
   "cell_type": "code",
   "execution_count": 7,
   "metadata": {},
   "outputs": [
    {
     "name": "stderr",
     "output_type": "stream",
     "text": [
      "[*********************100%***********************]  1 of 1 completed\n",
      "[*********************100%***********************]  1 of 1 completed\n"
     ]
    }
   ],
   "source": [
    "xauusd = yf.download(\"GC=F\", start=\"2022-01-01\", end=\"2023-01-01\")\n",
    "xagusd = yf.download(\"SI=F\", start=\"2022-01-01\", end=\"2023-01-01\")\n",
    "\n",
    "# Prepare the data\n",
    "data = pd.DataFrame({\n",
    "    'Gold': xauusd['Adj Close']['GC=F'],\n",
    "    'Silver': xagusd['Adj Close']['SI=F']\n",
    "}).dropna()\n",
    "\n",
    "del xauusd\n",
    "del xagusd"
   ]
  },
  {
   "cell_type": "code",
   "execution_count": 8,
   "metadata": {},
   "outputs": [],
   "source": [
    "# Step 3: Calculate the Spread\n",
    "model = OLS(data['Gold'], data['Silver']).fit()\n",
    "hedge_ratio = np.array(model.params)"
   ]
  },
  {
   "cell_type": "markdown",
   "metadata": {},
   "source": [
    "### Calculate Spread"
   ]
  },
  {
   "cell_type": "code",
   "execution_count": 9,
   "metadata": {},
   "outputs": [
    {
     "name": "stderr",
     "output_type": "stream",
     "text": [
      "[*********************100%***********************]  1 of 1 completed\n",
      "[*********************100%***********************]  1 of 1 completed\n"
     ]
    }
   ],
   "source": [
    "xauusd = yf.download(\"GC=F\", start=\"2023-01-01\", end=\"2024-01-01\")\n",
    "xagusd = yf.download(\"SI=F\", start=\"2023-01-01\", end=\"2024-01-01\")\n",
    "\n",
    "# Prepare the data\n",
    "data = pd.DataFrame({\n",
    "    'Gold': xauusd['Adj Close']['GC=F'],\n",
    "    'Silver': xagusd['Adj Close']['SI=F']\n",
    "}).dropna()"
   ]
  },
  {
   "cell_type": "code",
   "execution_count": 10,
   "metadata": {},
   "outputs": [],
   "source": [
    "data['Spread'] = data['Gold'] - (hedge_ratio * data['Silver'])"
   ]
  },
  {
   "cell_type": "code",
   "execution_count": 11,
   "metadata": {},
   "outputs": [],
   "source": [
    "# Standardize the Spread (Z-Score)\n",
    "WINDOW = 30\n",
    "mean_spread = data['Spread'].rolling(center=False, window=WINDOW).mean()\n",
    "std_spread = data['Spread'].rolling(center=False, window=WINDOW).std()\n",
    "data['Z-Score'] = (data['Spread'] - mean_spread) / std_spread"
   ]
  },
  {
   "cell_type": "code",
   "execution_count": null,
   "metadata": {},
   "outputs": [
    {
     "data": {
      "text/html": [
       "<div>\n",
       "<style scoped>\n",
       "    .dataframe tbody tr th:only-of-type {\n",
       "        vertical-align: middle;\n",
       "    }\n",
       "\n",
       "    .dataframe tbody tr th {\n",
       "        vertical-align: top;\n",
       "    }\n",
       "\n",
       "    .dataframe thead th {\n",
       "        text-align: right;\n",
       "    }\n",
       "</style>\n",
       "<table border=\"1\" class=\"dataframe\">\n",
       "  <thead>\n",
       "    <tr style=\"text-align: right;\">\n",
       "      <th></th>\n",
       "      <th>gold</th>\n",
       "      <th>silver</th>\n",
       "      <th>zscore</th>\n",
       "      <th>positions_Gold_Long</th>\n",
       "      <th>positions_Silver_Long</th>\n",
       "      <th>positions_Gold_Short</th>\n",
       "      <th>positions_Silver_Short</th>\n",
       "    </tr>\n",
       "    <tr>\n",
       "      <th>Date</th>\n",
       "      <th></th>\n",
       "      <th></th>\n",
       "      <th></th>\n",
       "      <th></th>\n",
       "      <th></th>\n",
       "      <th></th>\n",
       "      <th></th>\n",
       "    </tr>\n",
       "  </thead>\n",
       "  <tbody>\n",
       "    <tr>\n",
       "      <th>2023-01-03 00:00:00+00:00</th>\n",
       "      <td>1839.699951</td>\n",
       "      <td>24.059000</td>\n",
       "      <td>NaN</td>\n",
       "      <td>0</td>\n",
       "      <td>0</td>\n",
       "      <td>0</td>\n",
       "      <td>0</td>\n",
       "    </tr>\n",
       "    <tr>\n",
       "      <th>2023-01-04 00:00:00+00:00</th>\n",
       "      <td>1852.800049</td>\n",
       "      <td>23.792000</td>\n",
       "      <td>NaN</td>\n",
       "      <td>0</td>\n",
       "      <td>0</td>\n",
       "      <td>0</td>\n",
       "      <td>0</td>\n",
       "    </tr>\n",
       "    <tr>\n",
       "      <th>2023-01-05 00:00:00+00:00</th>\n",
       "      <td>1834.800049</td>\n",
       "      <td>23.257999</td>\n",
       "      <td>NaN</td>\n",
       "      <td>0</td>\n",
       "      <td>0</td>\n",
       "      <td>0</td>\n",
       "      <td>0</td>\n",
       "    </tr>\n",
       "    <tr>\n",
       "      <th>2023-01-06 00:00:00+00:00</th>\n",
       "      <td>1864.199951</td>\n",
       "      <td>23.822001</td>\n",
       "      <td>NaN</td>\n",
       "      <td>0</td>\n",
       "      <td>0</td>\n",
       "      <td>0</td>\n",
       "      <td>0</td>\n",
       "    </tr>\n",
       "    <tr>\n",
       "      <th>2023-01-09 00:00:00+00:00</th>\n",
       "      <td>1872.699951</td>\n",
       "      <td>23.712000</td>\n",
       "      <td>NaN</td>\n",
       "      <td>0</td>\n",
       "      <td>0</td>\n",
       "      <td>0</td>\n",
       "      <td>0</td>\n",
       "    </tr>\n",
       "    <tr>\n",
       "      <th>...</th>\n",
       "      <td>...</td>\n",
       "      <td>...</td>\n",
       "      <td>...</td>\n",
       "      <td>...</td>\n",
       "      <td>...</td>\n",
       "      <td>...</td>\n",
       "      <td>...</td>\n",
       "    </tr>\n",
       "    <tr>\n",
       "      <th>2023-12-22 00:00:00+00:00</th>\n",
       "      <td>2057.100098</td>\n",
       "      <td>24.290001</td>\n",
       "      <td>0.325572</td>\n",
       "      <td>0</td>\n",
       "      <td>0</td>\n",
       "      <td>0</td>\n",
       "      <td>0</td>\n",
       "    </tr>\n",
       "    <tr>\n",
       "      <th>2023-12-26 00:00:00+00:00</th>\n",
       "      <td>2058.199951</td>\n",
       "      <td>24.143999</td>\n",
       "      <td>0.662684</td>\n",
       "      <td>0</td>\n",
       "      <td>0</td>\n",
       "      <td>0</td>\n",
       "      <td>0</td>\n",
       "    </tr>\n",
       "    <tr>\n",
       "      <th>2023-12-27 00:00:00+00:00</th>\n",
       "      <td>2081.899902</td>\n",
       "      <td>24.375000</td>\n",
       "      <td>0.825026</td>\n",
       "      <td>0</td>\n",
       "      <td>0</td>\n",
       "      <td>0</td>\n",
       "      <td>0</td>\n",
       "    </tr>\n",
       "    <tr>\n",
       "      <th>2023-12-28 00:00:00+00:00</th>\n",
       "      <td>2073.899902</td>\n",
       "      <td>24.134001</td>\n",
       "      <td>1.069625</td>\n",
       "      <td>0</td>\n",
       "      <td>0</td>\n",
       "      <td>0</td>\n",
       "      <td>0</td>\n",
       "    </tr>\n",
       "    <tr>\n",
       "      <th>2023-12-29 00:00:00+00:00</th>\n",
       "      <td>2062.399902</td>\n",
       "      <td>23.853001</td>\n",
       "      <td>1.252304</td>\n",
       "      <td>0</td>\n",
       "      <td>0</td>\n",
       "      <td>0</td>\n",
       "      <td>0</td>\n",
       "    </tr>\n",
       "  </tbody>\n",
       "</table>\n",
       "<p>250 rows × 7 columns</p>\n",
       "</div>"
      ],
      "text/plain": [
       "                                  gold     silver    zscore  \\\n",
       "Date                                                          \n",
       "2023-01-03 00:00:00+00:00  1839.699951  24.059000       NaN   \n",
       "2023-01-04 00:00:00+00:00  1852.800049  23.792000       NaN   \n",
       "2023-01-05 00:00:00+00:00  1834.800049  23.257999       NaN   \n",
       "2023-01-06 00:00:00+00:00  1864.199951  23.822001       NaN   \n",
       "2023-01-09 00:00:00+00:00  1872.699951  23.712000       NaN   \n",
       "...                                ...        ...       ...   \n",
       "2023-12-22 00:00:00+00:00  2057.100098  24.290001  0.325572   \n",
       "2023-12-26 00:00:00+00:00  2058.199951  24.143999  0.662684   \n",
       "2023-12-27 00:00:00+00:00  2081.899902  24.375000  0.825026   \n",
       "2023-12-28 00:00:00+00:00  2073.899902  24.134001  1.069625   \n",
       "2023-12-29 00:00:00+00:00  2062.399902  23.853001  1.252304   \n",
       "\n",
       "                           positions_Gold_Long  positions_Silver_Long  \\\n",
       "Date                                                                    \n",
       "2023-01-03 00:00:00+00:00                    0                      0   \n",
       "2023-01-04 00:00:00+00:00                    0                      0   \n",
       "2023-01-05 00:00:00+00:00                    0                      0   \n",
       "2023-01-06 00:00:00+00:00                    0                      0   \n",
       "2023-01-09 00:00:00+00:00                    0                      0   \n",
       "...                                        ...                    ...   \n",
       "2023-12-22 00:00:00+00:00                    0                      0   \n",
       "2023-12-26 00:00:00+00:00                    0                      0   \n",
       "2023-12-27 00:00:00+00:00                    0                      0   \n",
       "2023-12-28 00:00:00+00:00                    0                      0   \n",
       "2023-12-29 00:00:00+00:00                    0                      0   \n",
       "\n",
       "                           positions_Gold_Short  positions_Silver_Short  \n",
       "Date                                                                     \n",
       "2023-01-03 00:00:00+00:00                     0                       0  \n",
       "2023-01-04 00:00:00+00:00                     0                       0  \n",
       "2023-01-05 00:00:00+00:00                     0                       0  \n",
       "2023-01-06 00:00:00+00:00                     0                       0  \n",
       "2023-01-09 00:00:00+00:00                     0                       0  \n",
       "...                                         ...                     ...  \n",
       "2023-12-22 00:00:00+00:00                     0                       0  \n",
       "2023-12-26 00:00:00+00:00                     0                       0  \n",
       "2023-12-27 00:00:00+00:00                     0                       0  \n",
       "2023-12-28 00:00:00+00:00                     0                       0  \n",
       "2023-12-29 00:00:00+00:00                     0                       0  \n",
       "\n",
       "[250 rows x 7 columns]"
      ]
     },
     "execution_count": 12,
     "metadata": {},
     "output_type": "execute_result"
    }
   ],
   "source": [
    "backtest_df = pd.DataFrame({\n",
    "    \"gold\": data['Gold'],\n",
    "    \"silver\": data['Silver'],\n",
    "    \"zscore\": data['Z-Score'],\n",
    "    })\n",
    "\n",
    "backtest_df['positions_Gold_Long'] = 0\n",
    "backtest_df['positions_Silver_Long'] = 0\n",
    "backtest_df['positions_Gold_Short'] = 0\n",
    "backtest_df['positions_Silver_Short'] = 0"
   ]
  },
  {
   "cell_type": "code",
   "execution_count": 24,
   "metadata": {},
   "outputs": [
    {
     "name": "stderr",
     "output_type": "stream",
     "text": [
      "/var/folders/k_/3s9bjxk17ss2bty8k9tjwjrc0000gn/T/ipykernel_32785/325996299.py:8: FutureWarning: DataFrame.fillna with 'method' is deprecated and will raise in a future version. Use obj.ffill() or obj.bfill() instead.\n",
      "  backtest_df.fillna(method='ffill', inplace=True) # ensure existing positions are carried forward unless there is an exit signal\n"
     ]
    }
   ],
   "source": [
    "# Recall, we are trading the \"synthetic pair\" Gold/Silver and betting on its mean reversion\n",
    "\n",
    "backtest_df.loc[backtest_df.zscore >= 1, ('positions_Gold_Short', 'positions_Silver_Short')] = [-1, 1] # Short spread\n",
    "backtest_df.loc[backtest_df.zscore <= -1, ('positions_Gold_Long', 'positions_Silver_Long')] = [1, -1] # Buy spread\n",
    "backtest_df.loc[backtest_df.zscore <= 0, ('positions_Gold_Short', 'positions_Silver_Short')] = 0 # Exit short spread\n",
    "backtest_df.loc[backtest_df.zscore >= 0, ('positions_Gold_Long', 'positions_Silver_Long')] = 0 # Exit long spread\n",
    "\n",
    "backtest_df.fillna(method='ffill', inplace=True) # ensure existing positions are carried forward unless there is an exit signal"
   ]
  },
  {
   "cell_type": "code",
   "execution_count": 25,
   "metadata": {},
   "outputs": [
    {
     "data": {
      "text/plain": [
       "np.float64(8.9982971807123)"
      ]
     },
     "execution_count": 25,
     "metadata": {},
     "output_type": "execute_result"
    }
   ],
   "source": [
    "positions_Long = backtest_df[['positions_Gold_Long', 'positions_Silver_Long']]\n",
    "positions_Short = backtest_df[['positions_Gold_Short', 'positions_Silver_Short']]\n",
    "positions = np.array(positions_Long) + np.array(positions_Short)\n",
    "positions = pd.DataFrame(positions, index=positions_Long.index, columns=['gold','silver'])\n",
    "\n",
    "dailyret = backtest_df[['gold', 'silver']].pct_change() \n",
    "pnl = (positions.shift() * dailyret).sum(axis=1)\n",
    "\n",
    "pnl[1:].sum()*100"
   ]
  },
  {
   "cell_type": "code",
   "execution_count": 26,
   "metadata": {},
   "outputs": [
    {
     "data": {
      "text/plain": [
       "np.float64(8.9982971807123)"
      ]
     },
     "execution_count": 26,
     "metadata": {},
     "output_type": "execute_result"
    }
   ],
   "source": [
    "# PnL Calculation\n",
    "# Shift the positions for the daily return calculation (positions taken on previous day)\n",
    "daily_positions = positions.shift()  # shift positions one day back\n",
    "daily_positions = daily_positions.fillna(0)  # Ensure there are no NaN values\n",
    "\n",
    "# Calculate daily returns\n",
    "dailyret = backtest_df[['gold', 'silver']].pct_change()\n",
    "\n",
    "# Calculate PnL for the strategy\n",
    "pnl = (daily_positions * dailyret).sum(axis=1)\n",
    "\n",
    "# Total profit or loss percentage\n",
    "total_pnl = pnl[1:].sum() * 100  # Don't include the first NaN value\n",
    "\n",
    "total_pnl\n"
   ]
  },
  {
   "cell_type": "code",
   "execution_count": 27,
   "metadata": {},
   "outputs": [
    {
     "data": {
      "image/png": "[encoded data removed]",
      "text/plain": [
       "<Figure size 640x480 with 1 Axes>"
      ]
     },
     "metadata": {},
     "output_type": "display_data"
    }
   ],
   "source": [
    "plt.plot(pnl[1:].cumsum()*100)\n",
    "plt.show()"
   ]
  },
  {
   "cell_type": "code",
   "execution_count": 28,
   "metadata": {},
   "outputs": [
    {
     "data": {
      "image/png": "[encoded data removed]",
      "text/plain": [
       "<Figure size 640x480 with 1 Axes>"
      ]
     },
     "metadata": {},
     "output_type": "display_data"
    }
   ],
   "source": [
    "threshold = 2\n",
    "plt.plot(backtest_df.zscore, label=\"Z-Score\")\n",
    "plt.axhline(threshold, color='red', linestyle='--', label='Sell Threshold')\n",
    "plt.axhline(-threshold, color='red', linestyle='--', label='Buy Threshold')\n",
    "plt.axhline(0, color='black', linestyle='-', label='TP Level')\n",
    "plt.title('Spread with Trading Bands')\n",
    "plt.legend()\n",
    "plt.show()"
   ]
  },
  {
   "cell_type": "code",
   "execution_count": 30,
   "metadata": {},
   "outputs": [
    {
     "name": "stdout",
     "output_type": "stream",
     "text": [
      "+--------------------+---------+\n",
      "| Metric             | Value   |\n",
      "+====================+=========+\n",
      "| CAGR               | 8.67%   |\n",
      "+--------------------+---------+\n",
      "| Max Drawdown       | -10.48% |\n",
      "+--------------------+---------+\n",
      "| Standard Deviation | 0.78%   |\n",
      "+--------------------+---------+\n"
     ]
    }
   ],
   "source": [
    "from tabulate import tabulate\n",
    "\n",
    "# Calculate cumulative returns\n",
    "cumulative_returns = (1 + pnl).cumprod()\n",
    "\n",
    "# Metrics calculations\n",
    "start_value = cumulative_returns.iloc[0]\n",
    "end_value = cumulative_returns.iloc[-1]\n",
    "num_years = len(cumulative_returns) / 252  # Assuming 252 trading days per year\n",
    "\n",
    "# CAGR (Compound Annual Growth Rate)\n",
    "CAGR = ((end_value / start_value) ** (1 / num_years)) - 1\n",
    "\n",
    "# Maximum Drawdown\n",
    "drawdown = cumulative_returns / cumulative_returns.cummax() - 1\n",
    "max_drawdown = drawdown.min()\n",
    "\n",
    "# Standard Deviation\n",
    "std_dev = pnl.std()\n",
    "\n",
    "# Create a metrics table\n",
    "metrics = [\n",
    "    [\"CAGR\", f\"{CAGR:.2%}\"],\n",
    "    [\"Max Drawdown\", f\"{max_drawdown:.2%}\"],\n",
    "    [\"Standard Deviation\", f\"{std_dev:.2%}\"]\n",
    "]\n",
    "\n",
    "# Print with tabulate\n",
    "print(tabulate(metrics, headers=[\"Metric\", \"Value\"], tablefmt=\"grid\"))"
   ]
  }
 ],
 "metadata": {
  "kernelspec": {
   "display_name": "venv",
   "language": "python",
   "name": "python3"
  },
  "language_info": {
   "codemirror_mode": {
    "name": "ipython",
    "version": 3
   },
   "file_extension": ".py",
   "mimetype": "text/x-python",
   "name": "python",
   "nbconvert_exporter": "python",
   "pygments_lexer": "ipython3",
   "version": "3.10.0"
  }
 },
 "nbformat": 4,
 "nbformat_minor": 2
}
