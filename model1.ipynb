{
 "cells": [
  {
   "cell_type": "code",
   "execution_count": 13,
   "metadata": {},
   "outputs": [],
   "source": [
    "import yfinance as yf\n",
    "import pandas as pd\n",
    "import matplotlib.pyplot as plt\n",
    "from statsmodels.tsa.stattools import coint\n",
    "from statsmodels.api import OLS\n",
    "import numpy as np\n",
    "import xgboost as xgb\n",
    "import statsmodels.api as sm"
   ]
  },
  {
   "cell_type": "markdown",
   "metadata": {},
   "source": [
    "#### Load Data"
   ]
  },
  {
   "cell_type": "code",
   "execution_count": 22,
   "metadata": {},
   "outputs": [
    {
     "name": "stderr",
     "output_type": "stream",
     "text": [
      "[*********************100%***********************]  1 of 1 completed\n",
      "[*********************100%***********************]  1 of 1 completed\n"
     ]
    }
   ],
   "source": [
    "# Download Historical Data\n",
    "start_date = \"2023-01-01\"\n",
    "end_date = \"2024-01-01\"\n",
    "\n",
    "# Get the Gold Future and Silver Future\n",
    "xauusd = yf.download(\"GC=F\", start=start_date, end=end_date)\n",
    "xagusd = yf.download(\"SI=F\", start=start_date, end=end_date)\n",
    "\n",
    "# Prepare the data\n",
    "data = pd.DataFrame({\n",
    "    'Gold': xauusd['Adj Close']['GC=F'],\n",
    "    'Silver': xagusd['Adj Close']['SI=F']\n",
    "}).dropna()"
   ]
  },
  {
   "cell_type": "markdown",
   "metadata": {},
   "source": [
    "#### Cointegrate & Correlation\n",
    "\n",
    "needs long enough of time to see the relationship"
   ]
  },
  {
   "cell_type": "code",
   "execution_count": 5,
   "metadata": {},
   "outputs": [
    {
     "name": "stdout",
     "output_type": "stream",
     "text": [
      "Correlation between Gold and Silver: 0.8319010117243449\n",
      "Cointegration p-value: 0.668497624232878\n"
     ]
    }
   ],
   "source": [
    "# Create cointegration dataframe to see the correlation\n",
    "coint_df = pd.concat([data['Gold'], data['Silver']], axis=1)\n",
    "\n",
    "# Correlation Test\n",
    "correlation = coint_df.corr()\n",
    "print(f\"Correlation between Gold and Silver: {correlation.loc['Gold', 'Silver']}\")\n",
    "\n",
    "# Cointegration Test\n",
    "score, p_value, _ = coint(coint_df['Gold'], coint_df['Silver'])\n",
    "print(f\"Cointegration p-value: {p_value}\")\n",
    "\n",
    "del coint_df"
   ]
  },
  {
   "cell_type": "code",
   "execution_count": 6,
   "metadata": {},
   "outputs": [],
   "source": [
    "def split_train_test_by_year(data, date_column, target_column, test_years):\n",
    "    \"\"\"\n",
    "    Splits the dataset into train and test sets based on years.\n",
    "    \n",
    "    Parameters:\n",
    "        data (pd.DataFrame): The dataset containing features and target.\n",
    "        date_column (str): The name of the column containing dates.\n",
    "        target_column (str): The name of the target column.\n",
    "        test_years (int): The number of years to include in the test set.\n",
    "        \n",
    "    Returns:\n",
    "        X_train, X_test, Y_train, Y_test\n",
    "    \"\"\"\n",
    "    # Ensure the date column is in datetime format\n",
    "    data[date_column] = pd.to_datetime(data[date_column])\n",
    "    \n",
    "    # Extract the year from the date column\n",
    "    data['Year'] = data[date_column].dt.year\n",
    "    \n",
    "    # Determine the threshold year for the split\n",
    "    max_year = data['Year'].max()\n",
    "    threshold_year = max_year - test_years + 1  # First year to include in the test set\n",
    "    \n",
    "    # Split data into train and test sets\n",
    "    train_data = data[data['Year'] < threshold_year]\n",
    "    test_data = data[data['Year'] >= threshold_year]\n",
    "    \n",
    "    # Separate features (X) and target (Y)\n",
    "    X_train = train_data.drop(columns=[target_column, 'Year'])\n",
    "    Y_train = train_data[target_column]\n",
    "    X_test = test_data.drop(columns=[target_column, 'Year'])\n",
    "    Y_test = test_data[target_column]\n",
    "    \n",
    "    return X_train, X_test, Y_train, Y_test"
   ]
  },
  {
   "cell_type": "code",
   "execution_count": 7,
   "metadata": {},
   "outputs": [],
   "source": [
    "tmp_df = data.copy()\n",
    "tmp_df.reset_index(inplace=True)\n",
    "X_train, X_test, Y_train, Y_test = split_train_test_by_year(tmp_df, \"Date\", \"Silver\", 1)"
   ]
  },
  {
   "cell_type": "code",
   "execution_count": 24,
   "metadata": {},
   "outputs": [],
   "source": [
    "# OLS is Simple Linear Regression\n",
    "model = OLS(data['Gold'], data['Silver']).fit()\n",
    "\n",
    "# Get the hedge ratio to make both assests be in the same scale\n",
    "hedge_ratio = np.array(model.params)\n",
    "\n",
    "# Calculate Spread (difference between two assets)\n",
    "data['Spread'] = data['Gold'] - (hedge_ratio * data['Silver'])"
   ]
  },
  {
   "cell_type": "code",
   "execution_count": 25,
   "metadata": {},
   "outputs": [
    {
     "name": "stderr",
     "output_type": "stream",
     "text": [
      "/var/folders/k_/3s9bjxk17ss2bty8k9tjwjrc0000gn/T/ipykernel_22571/4138012894.py:10: FutureWarning: Series.__getitem__ treating keys as positions is deprecated. In a future version, integer keys will always be treated as labels (consistent with DataFrame behavior). To access a value by position, use `ser.iloc[pos]`\n",
      "  half_life = round(-np.log(2) / res.params[1], 0)\n"
     ]
    },
    {
     "data": {
      "text/plain": [
       "np.float64(11.0)"
      ]
     },
     "execution_count": 25,
     "metadata": {},
     "output_type": "execute_result"
    }
   ],
   "source": [
    "def calculate_half_life(spread):\n",
    "    df_spread = pd.DataFrame(spread, columns=['Spread'])\n",
    "    spread_lag = df_spread['Spread'].shift(1)\n",
    "    spread_lag.iloc[0] = spread_lag.iloc[1]\n",
    "    spread_return = df_spread['Spread'] - spread_lag\n",
    "    spread_return.iloc[0] = spread_return.iloc[1]\n",
    "    spread_lag2 = sm.add_constant(spread_lag)\n",
    "    model = sm.OLS(spread_return, spread_lag2)\n",
    "    res = model.fit()\n",
    "    half_life = round(-np.log(2) / res.params[1], 0)\n",
    "    return half_life\n",
    "\n",
    "calculate_half_life(data['Spread'])"
   ]
  },
  {
   "cell_type": "code",
   "execution_count": 20,
   "metadata": {},
   "outputs": [],
   "source": [
    "def calculate_zscore(spread, window=21):\n",
    "    spread_series = pd.Series(spread)\n",
    "    mean = spread_series.rolling(center=False, window=window).mean()\n",
    "    std = spread_series.rolling(center=False, window=window).std()\n",
    "    x = spread_series.rolling(center=False, window=window).mean()\n",
    "    zscore = (x - mean) / std\n",
    "    return zscore\n",
    "\n",
    "zscore = calculate_zscore(data[\"Spread\"])"
   ]
  },
  {
   "cell_type": "code",
   "execution_count": 21,
   "metadata": {},
   "outputs": [
    {
     "data": {
      "text/plain": [
       "count    1238.0\n",
       "mean        0.0\n",
       "std         0.0\n",
       "min         0.0\n",
       "25%         0.0\n",
       "50%         0.0\n",
       "75%         0.0\n",
       "max         0.0\n",
       "Name: Spread, dtype: float64"
      ]
     },
     "execution_count": 21,
     "metadata": {},
     "output_type": "execute_result"
    }
   ],
   "source": [
    "zscore.describe()"
   ]
  },
  {
   "cell_type": "code",
   "execution_count": 9,
   "metadata": {},
   "outputs": [],
   "source": [
    "# Calculate mean and standard deviation for calculate Z-Score\n",
    "mean_spread = data['Spread'].mean()\n",
    "std_spread = data['Spread'].std()\n",
    "\n",
    "# Calculate Z-Score\n",
    "data['Z-Score'] = (data['Spread'] - mean_spread) / std_spread"
   ]
  },
  {
   "cell_type": "code",
   "execution_count": null,
   "metadata": {},
   "outputs": [],
   "source": []
  }
 ],
 "metadata": {
  "kernelspec": {
   "display_name": "venv",
   "language": "python",
   "name": "python3"
  },
  "language_info": {
   "codemirror_mode": {
    "name": "ipython",
    "version": 3
   },
   "file_extension": ".py",
   "mimetype": "text/x-python",
   "name": "python",
   "nbconvert_exporter": "python",
   "pygments_lexer": "ipython3",
   "version": "3.10.0"
  }
 },
 "nbformat": 4,
 "nbformat_minor": 2
}
